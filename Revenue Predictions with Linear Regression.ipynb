{
 "cells": [
  {
   "cell_type": "markdown",
   "metadata": {
    "colab_type": "text",
    "id": "M27qF7CTrBqc"
   },
   "source": [
    "#  Revenue Predicitons with Linear Regression"
   ]
  },
  {
   "cell_type": "markdown",
   "metadata": {},
   "source": [
    "In this project, I will be using a dataset from an ice cream business. I will use this data to create a Simple Linear Regression Model. The purpose of this model is to predict the daily revenue of the business in dollars based on the temperature outside.\n",
    "\n",
    "Objective:\n",
    "A business owner at an ice cream shop has asked me to create a model that could predict the daily revenue in dollars based on the outside temperature (degrees Celsius). The business owner has given me a dataset labeled 'IceCreamData.csv'."
   ]
  },
  {
   "cell_type": "markdown",
   "metadata": {
    "colab_type": "text",
    "id": "zKmFmyaGunc7"
   },
   "source": [
    "### IMPORT LIBRARIES AND DATASETS"
   ]
  },
  {
   "cell_type": "markdown",
   "metadata": {},
   "source": [
    "In simple linear regression, we predict the value of one variable y based on another varaible X. We call X the indpenedent varaible and Y is the dependent variable. So y changes depending on X. "
   ]
  },
  {
   "cell_type": "code",
   "execution_count": 1,
   "metadata": {
    "colab": {
     "base_uri": "https://localhost:8080/",
     "height": 505
    },
    "colab_type": "code",
    "executionInfo": {
     "elapsed": 46376,
     "status": "ok",
     "timestamp": 1566177742415,
     "user": {
      "displayName": "Stemplicity",
      "photoUrl": "https://lh6.googleusercontent.com/-lfS0Ez8Vfv4/AAAAAAAAAAI/AAAAAAAAALw/EUEfplOjgZw/s64/photo.jpg",
      "userId": "10668071569687886186"
     },
     "user_tz": 240
    },
    "id": "96V_NSAYaCev",
    "outputId": "b306fccd-0046-4f4e-d277-0d4f16fc1edc"
   },
   "outputs": [],
   "source": [
    "import pandas as pd     #dataframe manipulation\n",
    "import numpy as np      #numerical analysis and array manipulation\n",
    "import seaborn as sns      #visualization\n",
    "import matplotlib.pyplot as plt      #visualization"
   ]
  },
  {
   "cell_type": "markdown",
   "metadata": {
    "colab": {},
    "colab_type": "code",
    "id": "mLjnytV6eMA0"
   },
   "source": [
    "1)So I would say Outside Air Tempreture will be our feature aka the input which is our independent variable\n",
    "\n",
    "2)The revenuve will be our output aka dependent variable aka what we're trying to predict\n",
    "\n",
    "#We already know that naturally as tempreture increases, so do ice cream sales in general \n",
    "\n",
    "#So when the model is trained, I need to go ahead and look at the temp then I can predict based on historical data, the revenue should be around this much. "
   ]
  },
  {
   "cell_type": "code",
   "execution_count": 2,
   "metadata": {
    "colab": {
     "base_uri": "https://localhost:8080/",
     "height": 1000
    },
    "colab_type": "code",
    "executionInfo": {
     "elapsed": 450,
     "status": "ok",
     "timestamp": 1566177840001,
     "user": {
      "displayName": "Stemplicity",
      "photoUrl": "https://lh6.googleusercontent.com/-lfS0Ez8Vfv4/AAAAAAAAAAI/AAAAAAAAALw/EUEfplOjgZw/s64/photo.jpg",
      "userId": "10668071569687886186"
     },
     "user_tz": 240
    },
    "id": "q4_wPDKCu5Uc",
    "outputId": "5611ee70-7e86-4724-9bb9-00195be6c27a"
   },
   "outputs": [],
   "source": [
    "sales_df = pd.read_csv('IceCreamData.csv')  #reading in the company dataset"
   ]
  },
  {
   "cell_type": "code",
   "execution_count": 3,
   "metadata": {
    "colab": {
     "base_uri": "https://localhost:8080/",
     "height": 202
    },
    "colab_type": "code",
    "executionInfo": {
     "elapsed": 424,
     "status": "ok",
     "timestamp": 1566177867032,
     "user": {
      "displayName": "Stemplicity",
      "photoUrl": "https://lh6.googleusercontent.com/-lfS0Ez8Vfv4/AAAAAAAAAAI/AAAAAAAAALw/EUEfplOjgZw/s64/photo.jpg",
      "userId": "10668071569687886186"
     },
     "user_tz": 240
    },
    "id": "E7puy9-xxS4A",
    "outputId": "9cb765cc-82d5-4ff0-c62d-2c27deaaa3f1"
   },
   "outputs": [
    {
     "data": {
      "text/html": [
       "<div>\n",
       "<style scoped>\n",
       "    .dataframe tbody tr th:only-of-type {\n",
       "        vertical-align: middle;\n",
       "    }\n",
       "\n",
       "    .dataframe tbody tr th {\n",
       "        vertical-align: top;\n",
       "    }\n",
       "\n",
       "    .dataframe thead th {\n",
       "        text-align: right;\n",
       "    }\n",
       "</style>\n",
       "<table border=\"1\" class=\"dataframe\">\n",
       "  <thead>\n",
       "    <tr style=\"text-align: right;\">\n",
       "      <th></th>\n",
       "      <th>Temperature</th>\n",
       "      <th>Revenue</th>\n",
       "    </tr>\n",
       "  </thead>\n",
       "  <tbody>\n",
       "    <tr>\n",
       "      <th>0</th>\n",
       "      <td>24.566884</td>\n",
       "      <td>534.799028</td>\n",
       "    </tr>\n",
       "    <tr>\n",
       "      <th>1</th>\n",
       "      <td>26.005191</td>\n",
       "      <td>625.190122</td>\n",
       "    </tr>\n",
       "    <tr>\n",
       "      <th>2</th>\n",
       "      <td>27.790554</td>\n",
       "      <td>660.632289</td>\n",
       "    </tr>\n",
       "    <tr>\n",
       "      <th>3</th>\n",
       "      <td>20.595335</td>\n",
       "      <td>487.706960</td>\n",
       "    </tr>\n",
       "    <tr>\n",
       "      <th>4</th>\n",
       "      <td>11.503498</td>\n",
       "      <td>316.240194</td>\n",
       "    </tr>\n",
       "    <tr>\n",
       "      <th>...</th>\n",
       "      <td>...</td>\n",
       "      <td>...</td>\n",
       "    </tr>\n",
       "    <tr>\n",
       "      <th>495</th>\n",
       "      <td>22.274899</td>\n",
       "      <td>524.746364</td>\n",
       "    </tr>\n",
       "    <tr>\n",
       "      <th>496</th>\n",
       "      <td>32.893092</td>\n",
       "      <td>755.818399</td>\n",
       "    </tr>\n",
       "    <tr>\n",
       "      <th>497</th>\n",
       "      <td>12.588157</td>\n",
       "      <td>306.090719</td>\n",
       "    </tr>\n",
       "    <tr>\n",
       "      <th>498</th>\n",
       "      <td>22.362402</td>\n",
       "      <td>566.217304</td>\n",
       "    </tr>\n",
       "    <tr>\n",
       "      <th>499</th>\n",
       "      <td>28.957736</td>\n",
       "      <td>655.660388</td>\n",
       "    </tr>\n",
       "  </tbody>\n",
       "</table>\n",
       "<p>500 rows × 2 columns</p>\n",
       "</div>"
      ],
      "text/plain": [
       "     Temperature     Revenue\n",
       "0      24.566884  534.799028\n",
       "1      26.005191  625.190122\n",
       "2      27.790554  660.632289\n",
       "3      20.595335  487.706960\n",
       "4      11.503498  316.240194\n",
       "..           ...         ...\n",
       "495    22.274899  524.746364\n",
       "496    32.893092  755.818399\n",
       "497    12.588157  306.090719\n",
       "498    22.362402  566.217304\n",
       "499    28.957736  655.660388\n",
       "\n",
       "[500 rows x 2 columns]"
      ]
     },
     "execution_count": 3,
     "metadata": {},
     "output_type": "execute_result"
    }
   ],
   "source": [
    "sales_df"
   ]
  },
  {
   "cell_type": "code",
   "execution_count": 155,
   "metadata": {
    "colab": {
     "base_uri": "https://localhost:8080/",
     "height": 355
    },
    "colab_type": "code",
    "executionInfo": {
     "elapsed": 404,
     "status": "ok",
     "timestamp": 1566177881101,
     "user": {
      "displayName": "Stemplicity",
      "photoUrl": "https://lh6.googleusercontent.com/-lfS0Ez8Vfv4/AAAAAAAAAAI/AAAAAAAAALw/EUEfplOjgZw/s64/photo.jpg",
      "userId": "10668071569687886186"
     },
     "user_tz": 240
    },
    "id": "RUt2ON_UxyYk",
    "outputId": "76ee3fe8-5206-4216-d7ea-51d23f2d2bdb"
   },
   "outputs": [
    {
     "data": {
      "text/html": [
       "<div>\n",
       "<style scoped>\n",
       "    .dataframe tbody tr th:only-of-type {\n",
       "        vertical-align: middle;\n",
       "    }\n",
       "\n",
       "    .dataframe tbody tr th {\n",
       "        vertical-align: top;\n",
       "    }\n",
       "\n",
       "    .dataframe thead th {\n",
       "        text-align: right;\n",
       "    }\n",
       "</style>\n",
       "<table border=\"1\" class=\"dataframe\">\n",
       "  <thead>\n",
       "    <tr style=\"text-align: right;\">\n",
       "      <th></th>\n",
       "      <th>Temperature</th>\n",
       "      <th>Revenue</th>\n",
       "    </tr>\n",
       "  </thead>\n",
       "  <tbody>\n",
       "    <tr>\n",
       "      <th>490</th>\n",
       "      <td>23.824922</td>\n",
       "      <td>584.399945</td>\n",
       "    </tr>\n",
       "    <tr>\n",
       "      <th>491</th>\n",
       "      <td>34.472169</td>\n",
       "      <td>809.352519</td>\n",
       "    </tr>\n",
       "    <tr>\n",
       "      <th>492</th>\n",
       "      <td>23.056214</td>\n",
       "      <td>552.819351</td>\n",
       "    </tr>\n",
       "    <tr>\n",
       "      <th>493</th>\n",
       "      <td>14.931506</td>\n",
       "      <td>377.430928</td>\n",
       "    </tr>\n",
       "    <tr>\n",
       "      <th>494</th>\n",
       "      <td>25.112066</td>\n",
       "      <td>571.434257</td>\n",
       "    </tr>\n",
       "    <tr>\n",
       "      <th>495</th>\n",
       "      <td>22.274899</td>\n",
       "      <td>524.746364</td>\n",
       "    </tr>\n",
       "    <tr>\n",
       "      <th>496</th>\n",
       "      <td>32.893092</td>\n",
       "      <td>755.818399</td>\n",
       "    </tr>\n",
       "    <tr>\n",
       "      <th>497</th>\n",
       "      <td>12.588157</td>\n",
       "      <td>306.090719</td>\n",
       "    </tr>\n",
       "    <tr>\n",
       "      <th>498</th>\n",
       "      <td>22.362402</td>\n",
       "      <td>566.217304</td>\n",
       "    </tr>\n",
       "    <tr>\n",
       "      <th>499</th>\n",
       "      <td>28.957736</td>\n",
       "      <td>655.660388</td>\n",
       "    </tr>\n",
       "  </tbody>\n",
       "</table>\n",
       "</div>"
      ],
      "text/plain": [
       "     Temperature     Revenue\n",
       "490    23.824922  584.399945\n",
       "491    34.472169  809.352519\n",
       "492    23.056214  552.819351\n",
       "493    14.931506  377.430928\n",
       "494    25.112066  571.434257\n",
       "495    22.274899  524.746364\n",
       "496    32.893092  755.818399\n",
       "497    12.588157  306.090719\n",
       "498    22.362402  566.217304\n",
       "499    28.957736  655.660388"
      ]
     },
     "execution_count": 155,
     "metadata": {},
     "output_type": "execute_result"
    }
   ],
   "source": [
    "sales_df.tail(10)"
   ]
  },
  {
   "cell_type": "code",
   "execution_count": 156,
   "metadata": {
    "colab": {
     "base_uri": "https://localhost:8080/",
     "height": 139
    },
    "colab_type": "code",
    "executionInfo": {
     "elapsed": 355,
     "status": "ok",
     "timestamp": 1566177900070,
     "user": {
      "displayName": "Stemplicity",
      "photoUrl": "https://lh6.googleusercontent.com/-lfS0Ez8Vfv4/AAAAAAAAAAI/AAAAAAAAALw/EUEfplOjgZw/s64/photo.jpg",
      "userId": "10668071569687886186"
     },
     "user_tz": 240
    },
    "id": "hMq3-KWOx0e1",
    "outputId": "63cb6718-0914-4ef4-b9d0-00037f9b9502"
   },
   "outputs": [
    {
     "name": "stdout",
     "output_type": "stream",
     "text": [
      "<class 'pandas.core.frame.DataFrame'>\n",
      "RangeIndex: 500 entries, 0 to 499\n",
      "Data columns (total 2 columns):\n",
      " #   Column       Non-Null Count  Dtype  \n",
      "---  ------       --------------  -----  \n",
      " 0   Temperature  500 non-null    float64\n",
      " 1   Revenue      500 non-null    float64\n",
      "dtypes: float64(2)\n",
      "memory usage: 7.9 KB\n"
     ]
    }
   ],
   "source": [
    "sales_df.info()"
   ]
  },
  {
   "cell_type": "markdown",
   "metadata": {},
   "source": [
    "### Get more statistical information about our data: Calculating the average and maximum temperature and revenue"
   ]
  },
  {
   "cell_type": "code",
   "execution_count": 4,
   "metadata": {},
   "outputs": [],
   "source": [
    "average_temp = sum(sales_df['Temperature'])/len(sales_df['Temperature'])\n",
    "average_revenue = sum(sales_df['Revenue'])/len(sales_df['Revenue'])\n",
    "\n",
    "maximum_temp = max(sales_df['Temperature'])\n",
    "maximum_revenue = max(sales_df['Revenue'])\n",
    "\n"
   ]
  },
  {
   "cell_type": "code",
   "execution_count": 5,
   "metadata": {},
   "outputs": [
    {
     "data": {
      "text/plain": [
       "1000.0"
      ]
     },
     "execution_count": 5,
     "metadata": {},
     "output_type": "execute_result"
    }
   ],
   "source": [
    "maximum_revenue"
   ]
  },
  {
   "cell_type": "code",
   "execution_count": 159,
   "metadata": {},
   "outputs": [
    {
     "data": {
      "text/plain": [
       "521.5707766915399"
      ]
     },
     "execution_count": 159,
     "metadata": {},
     "output_type": "execute_result"
    }
   ],
   "source": [
    "average_revenue"
   ]
  },
  {
   "cell_type": "code",
   "execution_count": 6,
   "metadata": {},
   "outputs": [
    {
     "data": {
      "text/plain": [
       "22.23222511340402"
      ]
     },
     "execution_count": 6,
     "metadata": {},
     "output_type": "execute_result"
    }
   ],
   "source": [
    "average_temp"
   ]
  },
  {
   "cell_type": "code",
   "execution_count": 7,
   "metadata": {},
   "outputs": [
    {
     "data": {
      "text/plain": [
       "45.0"
      ]
     },
     "execution_count": 7,
     "metadata": {},
     "output_type": "execute_result"
    }
   ],
   "source": [
    "maximum_temp"
   ]
  },
  {
   "cell_type": "markdown",
   "metadata": {},
   "source": [
    "Or I can simply just do: "
   ]
  },
  {
   "cell_type": "code",
   "execution_count": 160,
   "metadata": {},
   "outputs": [
    {
     "data": {
      "text/plain": [
       "Temperature     22.232225\n",
       "Revenue        521.570777\n",
       "dtype: float64"
      ]
     },
     "execution_count": 160,
     "metadata": {},
     "output_type": "execute_result"
    }
   ],
   "source": [
    "sales_df.mean()"
   ]
  },
  {
   "cell_type": "code",
   "execution_count": 161,
   "metadata": {},
   "outputs": [
    {
     "data": {
      "text/plain": [
       "Temperature      45.0\n",
       "Revenue        1000.0\n",
       "dtype: float64"
      ]
     },
     "execution_count": 161,
     "metadata": {},
     "output_type": "execute_result"
    }
   ],
   "source": [
    "sales_df.max()"
   ]
  },
  {
   "cell_type": "markdown",
   "metadata": {
    "colab_type": "text",
    "id": "LlszUhNNyrl_"
   },
   "source": [
    "## Visualizing the Data: Line of Best Fit"
   ]
  },
  {
   "cell_type": "markdown",
   "metadata": {
    "colab": {
     "base_uri": "https://localhost:8080/",
     "height": 301
    },
    "colab_type": "code",
    "executionInfo": {
     "elapsed": 556,
     "status": "ok",
     "timestamp": 1566178017128,
     "user": {
      "displayName": "Stemplicity",
      "photoUrl": "https://lh6.googleusercontent.com/-lfS0Ez8Vfv4/AAAAAAAAAAI/AAAAAAAAALw/EUEfplOjgZw/s64/photo.jpg",
      "userId": "10668071569687886186"
     },
     "user_tz": 240
    },
    "id": "TYcWopZVyvAs",
    "outputId": "34173fd6-941c-4451-c6cc-2fbe077eb0d1"
   },
   "source": [
    "Using seaborn to make scatterplot to plot the temperature vs revenue. So each datapoint will be represented by a dot in our scatterplot. "
   ]
  },
  {
   "cell_type": "code",
   "execution_count": 8,
   "metadata": {},
   "outputs": [
    {
     "data": {
      "text/plain": [
       "<AxesSubplot:xlabel='Temperature', ylabel='Revenue'>"
      ]
     },
     "execution_count": 8,
     "metadata": {},
     "output_type": "execute_result"
    },
    {
     "data": {
      "image/png": "[encoded data removed]",
      "text/plain": [
       "<Figure size 936x504 with 1 Axes>"
      ]
     },
     "metadata": {
      "needs_background": "light"
     },
     "output_type": "display_data"
    }
   ],
   "source": [
    "plt.figure(figsize = (13,7)) #setting our image figure size \n",
    "\n",
    "#using seaborn\n",
    "sns.scatterplot(x = 'Temperature', y = 'Revenue', data = sales_df)"
   ]
  },
  {
   "cell_type": "markdown",
   "metadata": {},
   "source": [
    "Or"
   ]
  },
  {
   "cell_type": "code",
   "execution_count": 9,
   "metadata": {},
   "outputs": [
    {
     "data": {
      "image/png": "[encoded data removed]",
      "text/plain": [
       "<Figure size 936x504 with 1 Axes>"
      ]
     },
     "metadata": {
      "needs_background": "light"
     },
     "output_type": "display_data"
    }
   ],
   "source": [
    "plt.figure(figsize = (13,7)) #setting our image figure size \n",
    "\n",
    "#using seaborn\n",
    "sns.scatterplot(x = sales_df['Temperature'], y = sales_df['Revenue'], data = sales_df)\n",
    "plt.grid()"
   ]
  },
  {
   "cell_type": "markdown",
   "metadata": {},
   "source": [
    "Next we're going to try and do a regression plot. Seaborn will help draw the best fit line that can go through the data. We will use sns.regplot() for this"
   ]
  },
  {
   "cell_type": "code",
   "execution_count": 10,
   "metadata": {},
   "outputs": [
    {
     "data": {
      "image/png": "[encoded data removed]",
      "text/plain": [
       "<Figure size 936x504 with 1 Axes>"
      ]
     },
     "metadata": {
      "needs_background": "light"
     },
     "output_type": "display_data"
    }
   ],
   "source": [
    "plt.figure(figsize = (13,7))\n",
    "\n",
    "sns.regplot(x = 'Temperature', y = 'Revenue', data = sales_df)\n",
    "plt.grid() #add grids to our plot "
   ]
  },
  {
   "cell_type": "markdown",
   "metadata": {},
   "source": [
    "now we have a best fit line that goes through our data. In the next lines of code, we'll actually calculate that line. "
   ]
  },
  {
   "cell_type": "markdown",
   "metadata": {
    "colab_type": "text",
    "id": "Y0GmpAjG3GiH"
   },
   "source": [
    "# CREATE TESTING AND TRAINING DATASET"
   ]
  },
  {
   "cell_type": "markdown",
   "metadata": {
    "colab": {},
    "colab_type": "code",
    "id": "0-maV8hb9rYM"
   },
   "source": [
    "So now we want to take our data and split it into training and testing data. So whenever we train any machine learning model, we split the data by allocating around 80% of the data we have to training, then the remaining 20% will be allocated for testing.  \n",
    "\n",
    "So the overall idea is that we want to train the model with the training data, and then once the model is trained we're going to asess the trained model performance on a dataset that the model has never seen before during training. This is so we have a model that is able to generalize not memorize, meaning the model will actually generate real predictions on an entirely new dataset that we haven't seen before during training. "
   ]
  },
  {
   "cell_type": "code",
   "execution_count": 16,
   "metadata": {},
   "outputs": [],
   "source": [
    "#setting what we want our inputs and outputs for our model to be \n",
    "\n",
    "X = sales_df['Temperature'] #this will be our input\n",
    "y = sales_df['Revenue']"
   ]
  },
  {
   "cell_type": "code",
   "execution_count": 17,
   "metadata": {},
   "outputs": [],
   "source": [
    "#convert x and y to a numpy array, because the datatype needs to be in nd array form\n",
    "#because after words we will reshape the array and perform train, test, split to that array as well\n",
    "\n",
    "X = np.array(X)\n",
    "y = np.array(y)"
   ]
  },
  {
   "cell_type": "code",
   "execution_count": 18,
   "metadata": {},
   "outputs": [
    {
     "data": {
      "text/plain": [
       "numpy.ndarray"
      ]
     },
     "execution_count": 18,
     "metadata": {},
     "output_type": "execute_result"
    }
   ],
   "source": [
    "type(X)"
   ]
  },
  {
   "cell_type": "code",
   "execution_count": 19,
   "metadata": {},
   "outputs": [
    {
     "data": {
      "text/plain": [
       "(500,)"
      ]
     },
     "execution_count": 19,
     "metadata": {},
     "output_type": "execute_result"
    }
   ],
   "source": [
    "X.shape"
   ]
  },
  {
   "cell_type": "markdown",
   "metadata": {},
   "source": [
    "We're reshaping the array so that afterwords, we can perform the train-test-split appropriately, then train the machine learning model afterwords. \n",
    "\n",
    "The reason we need to reshape, is that we need the nd array to be a 2d array.\n",
    "\n",
    "Remember that 2d arrays can be defined as matrices which can be represented as a collection of rows and columns. "
   ]
  },
  {
   "cell_type": "code",
   "execution_count": 20,
   "metadata": {
    "scrolled": true
   },
   "outputs": [
    {
     "name": "stdout",
     "output_type": "stream",
     "text": [
      "(500, 1)\n",
      "(500, 1)\n"
     ]
    }
   ],
   "source": [
    "# reshaping the array from (500,) to (500, 1)\n",
    "X = X.reshape(-1,1)\n",
    "print(X.shape)\n",
    "\n",
    "# reshaping the array from (500,) to (500, 1)\n",
    "y = y.reshape(-1,1)\n",
    "print(y.shape)"
   ]
  },
  {
   "cell_type": "code",
   "execution_count": 22,
   "metadata": {},
   "outputs": [
    {
     "data": {
      "text/plain": [
       "array([[24.56688442],\n",
       "       [26.00519115],\n",
       "       [27.79055388],\n",
       "       [20.59533505],\n",
       "       [11.50349764],\n",
       "       [14.35251388],\n",
       "       [13.70777988],\n",
       "       [30.83398474],\n",
       "       [ 0.97686999],\n",
       "       [31.66946458],\n",
       "       [11.45525338],\n",
       "       [ 3.66466958],\n",
       "       [18.81182403],\n",
       "       [13.62450892],\n",
       "       [39.53990899],\n",
       "       [18.48314099],\n",
       "       [25.93537514],\n",
       "       [42.51528041],\n",
       "       [29.58948056],\n",
       "       [21.77594799],\n",
       "       [25.45783637],\n",
       "       [15.21456942],\n",
       "       [22.61931574],\n",
       "       [16.25872074],\n",
       "       [23.88172478],\n",
       "       [18.97830025],\n",
       "       [15.6614643 ],\n",
       "       [29.18504465],\n",
       "       [19.02461092],\n",
       "       [35.12015142],\n",
       "       [24.18393726],\n",
       "       [15.23119012],\n",
       "       [ 8.79095281],\n",
       "       [18.23322784],\n",
       "       [35.62892497],\n",
       "       [37.05754246],\n",
       "       [22.28455032],\n",
       "       [17.51707397],\n",
       "       [31.7379196 ],\n",
       "       [17.04973761],\n",
       "       [23.0034888 ],\n",
       "       [ 8.75555394],\n",
       "       [18.77535808],\n",
       "       [14.10966102],\n",
       "       [18.63391286],\n",
       "       [15.67648661],\n",
       "       [20.94791347],\n",
       "       [30.6353071 ],\n",
       "       [20.47359412],\n",
       "       [31.22898848],\n",
       "       [ 6.39383463],\n",
       "       [27.18581031],\n",
       "       [28.63373276],\n",
       "       [27.99922248],\n",
       "       [10.32638937],\n",
       "       [27.31281141],\n",
       "       [33.23567229],\n",
       "       [36.56911506],\n",
       "       [12.46293731],\n",
       "       [14.37969698],\n",
       "       [16.30255473],\n",
       "       [11.56964367],\n",
       "       [33.55141872],\n",
       "       [ 3.98652317],\n",
       "       [20.51163741],\n",
       "       [ 6.5425144 ],\n",
       "       [19.81753939],\n",
       "       [11.69453767],\n",
       "       [21.4881766 ],\n",
       "       [18.77353222],\n",
       "       [12.68842965],\n",
       "       [27.88711086],\n",
       "       [26.9567197 ],\n",
       "       [27.37540101],\n",
       "       [24.10161613],\n",
       "       [28.7901015 ],\n",
       "       [40.47398918],\n",
       "       [25.54596553],\n",
       "       [28.70127646],\n",
       "       [29.4637861 ],\n",
       "       [16.02097541],\n",
       "       [14.73955066],\n",
       "       [22.17119887],\n",
       "       [29.03573877],\n",
       "       [29.20971484],\n",
       "       [16.36494499],\n",
       "       [27.78049953],\n",
       "       [13.33060576],\n",
       "       [29.3050392 ],\n",
       "       [14.3840835 ],\n",
       "       [30.42779184],\n",
       "       [ 9.07383825],\n",
       "       [23.07061587],\n",
       "       [ 8.58694814],\n",
       "       [12.35208102],\n",
       "       [ 9.01886024],\n",
       "       [20.26501213],\n",
       "       [19.36315346],\n",
       "       [14.6859445 ],\n",
       "       [ 9.95435701],\n",
       "       [19.97746731],\n",
       "       [32.00416835],\n",
       "       [14.28719594],\n",
       "       [17.65850231],\n",
       "       [26.59505405],\n",
       "       [17.26218112],\n",
       "       [23.76143592],\n",
       "       [15.58806128],\n",
       "       [28.43656665],\n",
       "       [27.72739922],\n",
       "       [25.41930193],\n",
       "       [18.4750345 ],\n",
       "       [24.24311263],\n",
       "       [31.66848495],\n",
       "       [17.69003162],\n",
       "       [31.8914678 ],\n",
       "       [25.925171  ],\n",
       "       [29.31201255],\n",
       "       [11.05909651],\n",
       "       [25.49662411],\n",
       "       [22.94031709],\n",
       "       [12.90177331],\n",
       "       [28.26283094],\n",
       "       [30.56266124],\n",
       "       [12.57151377],\n",
       "       [19.05928653],\n",
       "       [15.99234716],\n",
       "       [26.18796989],\n",
       "       [31.41262876],\n",
       "       [32.29733128],\n",
       "       [21.6967827 ],\n",
       "       [20.47502254],\n",
       "       [19.43326763],\n",
       "       [20.12955049],\n",
       "       [ 6.09389721],\n",
       "       [22.84197048],\n",
       "       [24.58590837],\n",
       "       [28.54798741],\n",
       "       [19.77936855],\n",
       "       [12.4508333 ],\n",
       "       [36.70257212],\n",
       "       [19.62265889],\n",
       "       [32.40924246],\n",
       "       [19.26778542],\n",
       "       [19.72807749],\n",
       "       [ 8.63807589],\n",
       "       [29.43057848],\n",
       "       [19.25165371],\n",
       "       [24.61523866],\n",
       "       [12.44265041],\n",
       "       [24.54855656],\n",
       "       [12.20968364],\n",
       "       [12.26588434],\n",
       "       [19.75470829],\n",
       "       [23.34903419],\n",
       "       [21.14404693],\n",
       "       [18.88035599],\n",
       "       [28.2717647 ],\n",
       "       [16.40602096],\n",
       "       [28.99373705],\n",
       "       [10.24505765],\n",
       "       [11.07784312],\n",
       "       [25.49968375],\n",
       "       [27.93134811],\n",
       "       [28.4595428 ],\n",
       "       [13.30179635],\n",
       "       [25.99599345],\n",
       "       [32.80503252],\n",
       "       [32.71638067],\n",
       "       [32.10707989],\n",
       "       [24.77867495],\n",
       "       [15.02911176],\n",
       "       [23.42464718],\n",
       "       [35.21724007],\n",
       "       [16.37957324],\n",
       "       [20.55667911],\n",
       "       [21.32239237],\n",
       "       [26.94363797],\n",
       "       [22.63473505],\n",
       "       [33.25089892],\n",
       "       [ 8.99176011],\n",
       "       [26.87495294],\n",
       "       [21.35802411],\n",
       "       [22.00987431],\n",
       "       [29.12912778],\n",
       "       [16.19129752],\n",
       "       [35.35976059],\n",
       "       [11.18775682],\n",
       "       [16.55584289],\n",
       "       [30.33033167],\n",
       "       [12.90066587],\n",
       "       [19.81463838],\n",
       "       [20.93460766],\n",
       "       [23.59102806],\n",
       "       [16.55794796],\n",
       "       [30.66659556],\n",
       "       [ 9.81251047],\n",
       "       [31.57998903],\n",
       "       [25.42216523],\n",
       "       [25.24114819],\n",
       "       [26.87358624],\n",
       "       [21.42455778],\n",
       "       [23.9638795 ],\n",
       "       [10.4471261 ],\n",
       "       [ 5.82233235],\n",
       "       [16.14582413],\n",
       "       [23.95931178],\n",
       "       [ 9.78238075],\n",
       "       [23.97593152],\n",
       "       [10.09664458],\n",
       "       [22.38760374],\n",
       "       [27.32232277],\n",
       "       [20.24734584],\n",
       "       [23.15300185],\n",
       "       [15.75395072],\n",
       "       [27.57296049],\n",
       "       [18.77682968],\n",
       "       [22.65313582],\n",
       "       [17.99302022],\n",
       "       [13.11245224],\n",
       "       [24.80257679],\n",
       "       [18.60275025],\n",
       "       [25.8659433 ],\n",
       "       [26.25074588],\n",
       "       [13.36431317],\n",
       "       [21.54045905],\n",
       "       [27.12812867],\n",
       "       [26.9441229 ],\n",
       "       [38.14633277],\n",
       "       [ 4.23646497],\n",
       "       [ 9.40347921],\n",
       "       [20.15334527],\n",
       "       [19.72133149],\n",
       "       [19.19495126],\n",
       "       [19.17204498],\n",
       "       [36.11656147],\n",
       "       [23.41086133],\n",
       "       [29.91930886],\n",
       "       [32.00436506],\n",
       "       [29.76822349],\n",
       "       [11.13270573],\n",
       "       [23.38514451],\n",
       "       [27.70505923],\n",
       "       [15.04792332],\n",
       "       [ 6.35245937],\n",
       "       [14.2635406 ],\n",
       "       [25.42294716],\n",
       "       [24.72715441],\n",
       "       [16.30012497],\n",
       "       [18.14895234],\n",
       "       [18.57811922],\n",
       "       [32.33480808],\n",
       "       [ 7.56112494],\n",
       "       [31.47122432],\n",
       "       [28.33536277],\n",
       "       [17.63693676],\n",
       "       [21.70395288],\n",
       "       [18.46290678],\n",
       "       [32.47979434],\n",
       "       [17.36073198],\n",
       "       [21.00704512],\n",
       "       [23.57711325],\n",
       "       [30.76273994],\n",
       "       [22.6785601 ],\n",
       "       [28.85519147],\n",
       "       [ 9.65149525],\n",
       "       [18.50623116],\n",
       "       [ 5.33841267],\n",
       "       [35.4581362 ],\n",
       "       [24.77819856],\n",
       "       [24.62861149],\n",
       "       [28.4917635 ],\n",
       "       [24.94971519],\n",
       "       [25.44824   ],\n",
       "       [22.24873896],\n",
       "       [24.76187643],\n",
       "       [22.44803391],\n",
       "       [35.03345633],\n",
       "       [33.7442087 ],\n",
       "       [22.52674945],\n",
       "       [28.46493296],\n",
       "       [23.49753209],\n",
       "       [26.07840506],\n",
       "       [28.86558895],\n",
       "       [22.14631706],\n",
       "       [26.33705248],\n",
       "       [25.00237968],\n",
       "       [26.4560508 ],\n",
       "       [22.18951589],\n",
       "       [15.52116187],\n",
       "       [17.6568394 ],\n",
       "       [28.72991474],\n",
       "       [27.52923218],\n",
       "       [27.18851714],\n",
       "       [10.40342267],\n",
       "       [17.58837197],\n",
       "       [24.52184673],\n",
       "       [37.99863474],\n",
       "       [16.95477783],\n",
       "       [ 7.74528596],\n",
       "       [ 5.85845428],\n",
       "       [26.85972289],\n",
       "       [24.49347704],\n",
       "       [21.90251935],\n",
       "       [30.02820743],\n",
       "       [21.28191601],\n",
       "       [32.46497067],\n",
       "       [17.09064457],\n",
       "       [33.31499762],\n",
       "       [23.4125478 ],\n",
       "       [18.97799114],\n",
       "       [12.27096675],\n",
       "       [25.19142452],\n",
       "       [27.06860738],\n",
       "       [25.72547019],\n",
       "       [22.31107869],\n",
       "       [25.11606991],\n",
       "       [22.15258869],\n",
       "       [28.29868977],\n",
       "       [21.71200518],\n",
       "       [15.11819661],\n",
       "       [25.37410906],\n",
       "       [18.43998163],\n",
       "       [22.87056201],\n",
       "       [14.36142415],\n",
       "       [ 7.2613484 ],\n",
       "       [25.22777375],\n",
       "       [20.97115284],\n",
       "       [19.77514871],\n",
       "       [41.92444647],\n",
       "       [28.64919191],\n",
       "       [29.24175192],\n",
       "       [15.84302201],\n",
       "       [20.89871624],\n",
       "       [30.45673953],\n",
       "       [24.81875357],\n",
       "       [19.84924077],\n",
       "       [22.11870569],\n",
       "       [34.0616734 ],\n",
       "       [ 9.55727588],\n",
       "       [25.55120003],\n",
       "       [19.06659113],\n",
       "       [23.08766377],\n",
       "       [ 8.03315296],\n",
       "       [29.70702382],\n",
       "       [12.18941793],\n",
       "       [35.09479555],\n",
       "       [24.96044566],\n",
       "       [38.18519935],\n",
       "       [18.98527518],\n",
       "       [18.70847606],\n",
       "       [ 7.22337716],\n",
       "       [12.70471774],\n",
       "       [24.5288527 ],\n",
       "       [39.76412854],\n",
       "       [30.24724825],\n",
       "       [24.47243216],\n",
       "       [20.24414985],\n",
       "       [20.22642046],\n",
       "       [14.89697237],\n",
       "       [28.78743552],\n",
       "       [29.70418303],\n",
       "       [26.36974685],\n",
       "       [ 6.77520631],\n",
       "       [23.24671713],\n",
       "       [24.30829573],\n",
       "       [25.71796257],\n",
       "       [21.68442569],\n",
       "       [26.19166817],\n",
       "       [21.6018917 ],\n",
       "       [18.88371892],\n",
       "       [ 0.2670277 ],\n",
       "       [19.61787546],\n",
       "       [20.10390047],\n",
       "       [23.98464085],\n",
       "       [29.25112258],\n",
       "       [34.86070051],\n",
       "       [11.17715183],\n",
       "       [26.12624136],\n",
       "       [39.8593964 ],\n",
       "       [20.41103121],\n",
       "       [17.87119907],\n",
       "       [18.34681936],\n",
       "       [ 9.90029326],\n",
       "       [25.05628082],\n",
       "       [12.08460133],\n",
       "       [36.99708394],\n",
       "       [14.73182422],\n",
       "       [ 7.10749101],\n",
       "       [38.09660871],\n",
       "       [26.9236056 ],\n",
       "       [12.43313955],\n",
       "       [10.11973687],\n",
       "       [17.57423462],\n",
       "       [12.06247527],\n",
       "       [30.40761507],\n",
       "       [ 7.33544501],\n",
       "       [22.63297707],\n",
       "       [28.04640445],\n",
       "       [33.51453981],\n",
       "       [24.24037247],\n",
       "       [38.62886243],\n",
       "       [ 0.        ],\n",
       "       [24.34910395],\n",
       "       [26.16885914],\n",
       "       [ 5.30750735],\n",
       "       [17.99701481],\n",
       "       [30.96508651],\n",
       "       [29.7185162 ],\n",
       "       [32.64993621],\n",
       "       [21.12912561],\n",
       "       [18.55163953],\n",
       "       [14.55121221],\n",
       "       [41.76658912],\n",
       "       [27.11773949],\n",
       "       [20.01638438],\n",
       "       [20.56301483],\n",
       "       [27.51664567],\n",
       "       [30.22810362],\n",
       "       [21.67989703],\n",
       "       [20.05018591],\n",
       "       [17.29920384],\n",
       "       [17.19943002],\n",
       "       [35.44454622],\n",
       "       [19.11365281],\n",
       "       [18.95252067],\n",
       "       [26.12213765],\n",
       "       [19.98286779],\n",
       "       [27.72143999],\n",
       "       [21.02639814],\n",
       "       [25.3804373 ],\n",
       "       [24.11359659],\n",
       "       [27.5990664 ],\n",
       "       [ 8.75600403],\n",
       "       [27.54196095],\n",
       "       [15.91667782],\n",
       "       [17.18894776],\n",
       "       [28.79315859],\n",
       "       [17.13279538],\n",
       "       [ 8.79430294],\n",
       "       [31.03033279],\n",
       "       [19.20297003],\n",
       "       [27.12941186],\n",
       "       [30.08108934],\n",
       "       [45.        ],\n",
       "       [18.90848865],\n",
       "       [15.10292191],\n",
       "       [21.89743267],\n",
       "       [29.50819457],\n",
       "       [19.2786717 ],\n",
       "       [29.87997288],\n",
       "       [21.61064376],\n",
       "       [24.98851899],\n",
       "       [31.16003022],\n",
       "       [34.67804648],\n",
       "       [20.90057478],\n",
       "       [37.12707034],\n",
       "       [26.36052065],\n",
       "       [35.33120818],\n",
       "       [24.48490862],\n",
       "       [38.66820248],\n",
       "       [28.90019172],\n",
       "       [12.12301401],\n",
       "       [11.5951027 ],\n",
       "       [17.45516162],\n",
       "       [20.89661921],\n",
       "       [40.30376781],\n",
       "       [26.53021877],\n",
       "       [39.5131548 ],\n",
       "       [22.39797728],\n",
       "       [ 9.3093456 ],\n",
       "       [19.49474317],\n",
       "       [22.22512228],\n",
       "       [18.88716165],\n",
       "       [21.75209218],\n",
       "       [18.15921677],\n",
       "       [14.86610347],\n",
       "       [28.82975908],\n",
       "       [25.33342015],\n",
       "       [18.50836039],\n",
       "       [22.48279827],\n",
       "       [30.08518963],\n",
       "       [16.99788893],\n",
       "       [27.28106383],\n",
       "       [ 4.86587362],\n",
       "       [23.40725697],\n",
       "       [12.30161489],\n",
       "       [32.63285815],\n",
       "       [16.70385182],\n",
       "       [26.96421749],\n",
       "       [23.82492237],\n",
       "       [34.47216919],\n",
       "       [23.05621357],\n",
       "       [14.93150577],\n",
       "       [25.11206572],\n",
       "       [22.27489926],\n",
       "       [32.89309211],\n",
       "       [12.58815695],\n",
       "       [22.36240237],\n",
       "       [28.95773632]])"
      ]
     },
     "execution_count": 22,
     "metadata": {},
     "output_type": "execute_result"
    }
   ],
   "source": [
    "X"
   ]
  },
  {
   "cell_type": "code",
   "execution_count": 23,
   "metadata": {},
   "outputs": [],
   "source": [
    "from sklearn.model_selection import train_test_split \n",
    "X_train, X_test, y_train, y_test = train_test_split(X, y, test_size = 0.2) #passing in our X and Y to perform train_test_split on\n",
    "#the test_size being 0.2 means 20% will be allocated for testing and the rest for training\n"
   ]
  },
  {
   "cell_type": "code",
   "execution_count": 24,
   "metadata": {},
   "outputs": [
    {
     "data": {
      "text/plain": [
       "(400, 1)"
      ]
     },
     "execution_count": 24,
     "metadata": {},
     "output_type": "execute_result"
    }
   ],
   "source": [
    "X_train.shape #left with 80% of our data for training"
   ]
  },
  {
   "cell_type": "code",
   "execution_count": 25,
   "metadata": {},
   "outputs": [
    {
     "data": {
      "text/plain": [
       "(400, 1)"
      ]
     },
     "execution_count": 25,
     "metadata": {},
     "output_type": "execute_result"
    }
   ],
   "source": [
    "y_train.shape #left with 80% of our data for training"
   ]
  },
  {
   "cell_type": "code",
   "execution_count": 26,
   "metadata": {},
   "outputs": [
    {
     "data": {
      "text/plain": [
       "(100, 1)"
      ]
     },
     "execution_count": 26,
     "metadata": {},
     "output_type": "execute_result"
    }
   ],
   "source": [
    "y_test.shape #Left with 20% of our data for testing"
   ]
  },
  {
   "cell_type": "code",
   "execution_count": 27,
   "metadata": {},
   "outputs": [
    {
     "data": {
      "text/plain": [
       "(100, 1)"
      ]
     },
     "execution_count": 27,
     "metadata": {},
     "output_type": "execute_result"
    }
   ],
   "source": [
    "X_test.shape #Left with 20% of our data for testing "
   ]
  },
  {
   "cell_type": "markdown",
   "metadata": {
    "colab_type": "text",
    "id": "_dXoZAtVcbfA"
   },
   "source": [
    "# UNDERSTANDING THE THEORY BEHIND SIMPLE LINER REGRESSION "
   ]
  },
  {
   "cell_type": "markdown",
   "metadata": {},
   "source": [
    "#### Simple Linear Regression Basics"
   ]
  },
  {
   "cell_type": "markdown",
   "metadata": {},
   "source": [
    "Simple Linear Regression looks at the relationship between only two variables x and y. The variable X is the independent variable and the value Y is the dependent variable. This means that we predict the value of Y basd on the existing value of X. If we were working with multiple linear regression, there would be more that two variables at stake.  \n",
    "\n",
    "When the predictor variable increases or decreases, so does the dependent variable in a Linear way. "
   ]
  },
  {
   "cell_type": "markdown",
   "metadata": {},
   "source": [
    "#### The Goal of the Simple Linear Regression Model "
   ]
  },
  {
   "cell_type": "markdown",
   "metadata": {},
   "source": [
    "The Line of Best Fit is the goal. The line of best fit best represents the relationship between our variables. \n",
    "\n",
    "We want the trained model to be able get that line of best fit after plotting our dataset. Once we have that model, we can use it in the future to generate or make predictions. "
   ]
  },
  {
   "cell_type": "markdown",
   "metadata": {},
   "source": [
    "### Math under the hood: Finding the Coefficients "
   ]
  },
  {
   "cell_type": "markdown",
   "metadata": {},
   "source": [
    "Math under the hood: Finding the Coefficients \n",
    "\n",
    "In school I learned that any straight line, can be represented by y = mx + b. \n",
    "x = independent variable, y = dependent variable, b = y intercept, m = the slope of our best fit line\n",
    "\n",
    "What we're trying to obtain is the optimal values for b and m. When you say that you found these coefficients, that means you have obtained the simple linear regression model. \n",
    "\n",
    "The goal is to find what's going to be the b and what's going to be the m.\n",
    "\n",
    "Now that the model is trained and coeeficients are retrieved, the model can later be used to predict any revenue based on temperature input. \n"
   ]
  },
  {
   "cell_type": "markdown",
   "metadata": {},
   "source": [
    "# TASK #6: TRAIN A SIMPLE LINEAR REGRESSION MODEL IN SCIKIT LEARN"
   ]
  },
  {
   "cell_type": "markdown",
   "metadata": {},
   "source": [
    "## Creating my official Model"
   ]
  },
  {
   "cell_type": "code",
   "execution_count": 29,
   "metadata": {
    "colab": {
     "base_uri": "https://localhost:8080/",
     "height": 35
    },
    "colab_type": "code",
    "executionInfo": {
     "elapsed": 453,
     "status": "ok",
     "timestamp": 1566181650779,
     "user": {
      "displayName": "Stemplicity",
      "photoUrl": "https://lh6.googleusercontent.com/-lfS0Ez8Vfv4/AAAAAAAAAAI/AAAAAAAAALw/EUEfplOjgZw/s64/photo.jpg",
      "userId": "10668071569687886186"
     },
     "user_tz": 240
    },
    "id": "L5bpK-EWcW1b",
    "outputId": "b9f2e7cb-2fdd-45a7-9f31-e96ac9bdf76f"
   },
   "outputs": [
    {
     "data": {
      "text/plain": [
       "LinearRegression()"
      ]
     },
     "execution_count": 29,
     "metadata": {},
     "output_type": "execute_result"
    }
   ],
   "source": [
    "from sklearn.linear_model import LinearRegression #importing our linear regression class  \n",
    "SimpleLinearRegression = LinearRegression(fit_intercept = True) #instantiate an object out of our class\n",
    "SimpleLinearRegression.fit(X_train, y_train) #apply the fit method on the SimpleLinearRegression model object, and pass it along the input(X_train) and output (y_train)\n",
    "\n"
   ]
  },
  {
   "cell_type": "code",
   "execution_count": 31,
   "metadata": {
    "colab": {
     "base_uri": "https://localhost:8080/",
     "height": 52
    },
    "colab_type": "code",
    "executionInfo": {
     "elapsed": 361,
     "status": "ok",
     "timestamp": 1566181651718,
     "user": {
      "displayName": "Stemplicity",
      "photoUrl": "https://lh6.googleusercontent.com/-lfS0Ez8Vfv4/AAAAAAAAAAI/AAAAAAAAALw/EUEfplOjgZw/s64/photo.jpg",
      "userId": "10668071569687886186"
     },
     "user_tz": 240
    },
    "id": "uUyzZYAHcrgs",
    "outputId": "0ecd0197-0310-4e02-c8f6-a5eb0c6c024c"
   },
   "outputs": [
    {
     "name": "stdout",
     "output_type": "stream",
     "text": [
      "This is our m Coeff: [[21.5140177]]\n",
      "This is our b Coeff: [43.27008107]\n"
     ]
    }
   ],
   "source": [
    "#plotting our m and our b (our slope and and our y intercept)\n",
    "print('This is our m Coeff:', SimpleLinearRegression.coef_) #slope of our line\n",
    "print('This is our b Coeff:', SimpleLinearRegression.intercept_) #y intercept"
   ]
  },
  {
   "cell_type": "markdown",
   "metadata": {},
   "source": [
    "##### Line of best fit that goes through the origin "
   ]
  },
  {
   "cell_type": "markdown",
   "metadata": {},
   "source": [
    "To get a line of best fit that goes through the origin, we set the fit_intercept to be equal to false: \n",
    "\n",
    "This then forces the line of best-fit to go through the origin, which means we want the coefficient b (our y intercept) to be equals to zero. This will impact the slope of our line. "
   ]
  },
  {
   "cell_type": "code",
   "execution_count": 32,
   "metadata": {},
   "outputs": [
    {
     "data": {
      "text/plain": [
       "LinearRegression(fit_intercept=False)"
      ]
     },
     "execution_count": 32,
     "metadata": {},
     "output_type": "execute_result"
    }
   ],
   "source": [
    "from sklearn.linear_model import LinearRegression \n",
    "\n",
    "SimpleRegression2 = LinearRegression(fit_intercept = False)\n",
    "\n",
    "SimpleRegression2.fit(X_train, y_train)"
   ]
  },
  {
   "cell_type": "code",
   "execution_count": 33,
   "metadata": {},
   "outputs": [
    {
     "name": "stdout",
     "output_type": "stream",
     "text": [
      "Linear Model Coeff(m) [[23.22000613]]\n",
      "Linear Model Coeff(b) 0.0\n"
     ]
    }
   ],
   "source": [
    "print('Linear Model Coeff(m)', SimpleRegression2.coef_) #our m\n",
    "print('Linear Model Coeff(b)', SimpleRegression2.intercept_) #our b"
   ]
  },
  {
   "cell_type": "markdown",
   "metadata": {},
   "source": [
    "# TASK #7: EVALUATE TRAINED SIMPLE LINEAR REGRESSION MODEL IN SCIKIT LEARN"
   ]
  },
  {
   "cell_type": "markdown",
   "metadata": {},
   "source": [
    "#### Plotting our training data without the linear model (line of best fit) "
   ]
  },
  {
   "cell_type": "code",
   "execution_count": 76,
   "metadata": {
    "colab": {
     "base_uri": "https://localhost:8080/",
     "height": 313
    },
    "colab_type": "code",
    "executionInfo": {
     "elapsed": 514,
     "status": "ok",
     "timestamp": 1566181664231,
     "user": {
      "displayName": "Stemplicity",
      "photoUrl": "https://lh6.googleusercontent.com/-lfS0Ez8Vfv4/AAAAAAAAAAI/AAAAAAAAALw/EUEfplOjgZw/s64/photo.jpg",
      "userId": "10668071569687886186"
     },
     "user_tz": 240
    },
    "id": "BQRkG80MdycN",
    "outputId": "ee0fa862-465f-4f46-d6bb-de824c74cc01"
   },
   "outputs": [
    {
     "data": {
      "image/png": "[encoded data removed]",
      "text/plain": [
       "<Figure size 936x504 with 1 Axes>"
      ]
     },
     "metadata": {
      "needs_background": "light"
     },
     "output_type": "display_data"
    }
   ],
   "source": [
    "plt.figure(figsize = (13,7))\n",
    "\n",
    "plt.scatter(X_train, y_train, color = 'plum')\n",
    "plt.grid()\n"
   ]
  },
  {
   "cell_type": "markdown",
   "metadata": {},
   "source": [
    "#### Plotting our training data with our prediction"
   ]
  },
  {
   "cell_type": "raw",
   "metadata": {},
   "source": [
    "Steps: \n",
    "\n",
    "1) take trained 'SimpleLinearRegression' model -> apply the predict method on it ->\n",
    "pass along the input which is X_train -> that'll generate the output which is going to be our y (our y prediction) ->\n",
    "then highlight that in color. \n",
    "    \n",
    "    "
   ]
  },
  {
   "cell_type": "code",
   "execution_count": 68,
   "metadata": {},
   "outputs": [
    {
     "data": {
      "text/plain": [
       "Text(0.5, 1.0, 'Revenue Generated vs Outside Temperature')"
      ]
     },
     "execution_count": 68,
     "metadata": {},
     "output_type": "execute_result"
    },
    {
     "data": {
      "image/png": "[encoded data removed]",
      "text/plain": [
       "<Figure size 936x504 with 1 Axes>"
      ]
     },
     "metadata": {
      "needs_background": "light"
     },
     "output_type": "display_data"
    }
   ],
   "source": [
    "plt.figure(figsize = (13,7))\n",
    "\n",
    "plt.scatter(X_train, y_train, color = 'plum')\n",
    "plt.plot(X_train, SimpleLinearRegression.predict(X_train), color ='r' )#plotting our line of best fit \n",
    "plt.grid()\n",
    "\n",
    "plt.ylabel('Revenue [$]')\n",
    "plt.xlabel('Temperature [Degrees Celcius]')\n",
    "plt.title('Revenue Generated vs Outside Temperature')"
   ]
  },
  {
   "cell_type": "markdown",
   "metadata": {},
   "source": [
    "# CHECKING THE ACCURACY OF OUR MODEL"
   ]
  },
  {
   "cell_type": "markdown",
   "metadata": {},
   "source": [
    "Next we're going to apply the score method, and pass it along to our testing data (X_test and y_test). This will show the accuracy of the model."
   ]
  },
  {
   "cell_type": "code",
   "execution_count": 63,
   "metadata": {},
   "outputs": [
    {
     "data": {
      "text/plain": [
       "0.9851920689930039"
      ]
     },
     "execution_count": 63,
     "metadata": {},
     "output_type": "execute_result"
    }
   ],
   "source": [
    "Results_LinearRegression = SimpleLinearRegression.score(X_test, y_test)\n",
    "Results_LinearRegression"
   ]
  },
  {
   "cell_type": "markdown",
   "metadata": {},
   "source": [
    "### Plotting the Testing Data"
   ]
  },
  {
   "cell_type": "markdown",
   "metadata": {},
   "source": [
    "Now I want to pretty much plot the same exact plot, but this time I want to plot it for the testing data instead of the training data. I want to see how the model will perfrom for the testing data. "
   ]
  },
  {
   "cell_type": "code",
   "execution_count": 67,
   "metadata": {},
   "outputs": [
    {
     "data": {
      "text/plain": [
       "Text(0.5, 1.0, 'Revenue Generated vs Outside Temperature')"
      ]
     },
     "execution_count": 67,
     "metadata": {},
     "output_type": "execute_result"
    },
    {
     "data": {
      "image/png": "[encoded data removed]",
      "text/plain": [
       "<Figure size 936x504 with 1 Axes>"
      ]
     },
     "metadata": {
      "needs_background": "light"
     },
     "output_type": "display_data"
    }
   ],
   "source": [
    "plt.figure(figsize = (13,7))\n",
    "\n",
    "plt.scatter(X_test, y_test, color = 'green') # making a scatter for the datapoints first\n",
    "plt.plot(X_test, SimpleLinearRegression.predict(X_test), color = 'r') #now plotting the line of best fit \n",
    "\n",
    "plt.ylabel('Revenue [$]')\n",
    "plt.xlabel('Temperature [Degrees Celcius]')\n",
    "plt.title('Revenue Generated vs Outside Temperature')"
   ]
  },
  {
   "cell_type": "markdown",
   "metadata": {},
   "source": [
    "# Putting the Model to Use "
   ]
  },
  {
   "cell_type": "markdown",
   "metadata": {},
   "source": [
    "I'm going to take my model and put it to use by playing around with it and using real values. \n",
    "\n",
    "Say I'm the business owner, and I opened the store today, I opened the news and found out that the temperature will be around 20C. I now have a model to help me predict what my revenue might be. "
   ]
  },
  {
   "cell_type": "code",
   "execution_count": 75,
   "metadata": {},
   "outputs": [
    {
     "name": "stdout",
     "output_type": "stream",
     "text": [
      "Revenue Predictions = [[688.6906121]]\n"
     ]
    }
   ],
   "source": [
    "# Using the trained model to generate predictions\n",
    "\n",
    "Temp = np.array([30]) #pass our degrees to an array \n",
    "Temp = Temp.reshape(-1,1)  #reshaping our array, by adding an additional dimension\n",
    "\n",
    "Revenue = SimpleLinearRegression.predict(Temp) #applying the predict method on our model, and passing Temp to it\n",
    "print('Revenue Predictions =', Revenue)\n"
   ]
  },
  {
   "cell_type": "code",
   "execution_count": 74,
   "metadata": {},
   "outputs": [
    {
     "name": "stdout",
     "output_type": "stream",
     "text": [
      "[[1226.54105463]]\n"
     ]
    }
   ],
   "source": [
    "Temperature = np.array([55])\n",
    "Temperature = Temperature.reshape(-1,1)\n",
    "\n",
    "Summer_Revenue = SimpleLinearRegression.predict(Temperature)\n",
    "print(Summer_Revenue)"
   ]
  },
  {
   "cell_type": "code",
   "execution_count": 73,
   "metadata": {},
   "outputs": [
    {
     "name": "stdout",
     "output_type": "stream",
     "text": [
      "[[193.86820497]]\n"
     ]
    }
   ],
   "source": [
    "Temperature_w = np.array([7])\n",
    "Temperature_w = Temperature_w.reshape(-1,1)\n",
    "\n",
    "Winter_Revenue = SimpleLinearRegression.predict(Temperature_w)\n",
    "print(Winter_Revenue)\n"
   ]
  },
  {
   "cell_type": "markdown",
   "metadata": {},
   "source": [
    "My results seem to make logical sense, so that means the model is good!"
   ]
  }
 ],
 "metadata": {
  "accelerator": "GPU",
  "colab": {
   "collapsed_sections": [],
   "name": "2. Develop a Model to Predict Ice Cream Sales Using Temperature - Solutions.ipynb",
   "provenance": [
    {
     "file_id": "1a4oSLAX60Ao926nlZ6LeZ5_-9OiS0-6Z",
     "timestamp": 1566175724116
    },
    {
     "file_id": "1mq7NVxvs3eGrUXAYfra0F0_GkbddGuj5",
     "timestamp": 1566175601760
    },
    {
     "file_id": "1CHDPbceE-LisXLhoOw64axVK4cv8Dfko",
     "timestamp": 1565722015437
    },
    {
     "file_id": "1eiMl_DeuwX9kc05_YXfBMEf6elXCk5g_",
     "timestamp": 1565712881168
    }
   ],
   "version": "0.3.2"
  },
  "kernelspec": {
   "display_name": "Python 3 (ipykernel)",
   "language": "python",
   "name": "python3"
  },
  "language_info": {
   "codemirror_mode": {
    "name": "ipython",
    "version": 3
   },
   "file_extension": ".py",
   "mimetype": "text/x-python",
   "name": "python",
   "nbconvert_exporter": "python",
   "pygments_lexer": "ipython3",
   "version": "3.9.7"
  }
 },
 "nbformat": 4,
 "nbformat_minor": 1
}
